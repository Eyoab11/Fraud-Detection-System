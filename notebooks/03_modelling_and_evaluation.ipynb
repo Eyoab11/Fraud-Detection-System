{
 "cells": [
  {
   "cell_type": "code",
   "execution_count": 1,
   "id": "72ac2a92",
   "metadata": {},
   "outputs": [],
   "source": [
    "# --- SET ENVIRONMENT VARIABLE TO FIX SCIPY/SKLEARN CONFLICT ---\n",
    "import os\n",
    "os.environ['SCIPY_ARRAY_API'] = '1'\n",
    "# Import core libraries\n",
    "import pandas as pd\n",
    "import numpy as np\n",
    "import matplotlib.pyplot as plt\n",
    "import seaborn as sns\n"
   ]
  },
  {
   "cell_type": "code",
   "execution_count": 2,
   "id": "ace11f53",
   "metadata": {},
   "outputs": [],
   "source": [
    "# Machine learning tool-kits\n",
    "\n",
    "from sklearn.model_selection import train_test_split\n",
    "from sklearn.preprocessing import StandardScaler, OneHotEncoder\n",
    "from sklearn.compose import ColumnTransformer\n",
    "from sklearn.linear_model import LogisticRegression\n",
    "from sklearn.metrics import ( f1_score, average_precision_score, confusion_matrix, classification_report)\n"
   ]
  },
  {
   "cell_type": "code",
   "execution_count": 3,
   "id": "af689e29",
   "metadata": {},
   "outputs": [],
   "source": [
    "# Ensemble Model and Imbalance Handling \n",
    "import lightgbm as lgb\n",
    "from imblearn.pipeline import Pipeline as ImmbPipeline\n",
    "from imblearn.over_sampling import SMOTE"
   ]
  }
 ],
 "metadata": {
  "kernelspec": {
   "display_name": "venv (3.13.3)",
   "language": "python",
   "name": "python3"
  },
  "language_info": {
   "codemirror_mode": {
    "name": "ipython",
    "version": 3
   },
   "file_extension": ".py",
   "mimetype": "text/x-python",
   "name": "python",
   "nbconvert_exporter": "python",
   "pygments_lexer": "ipython3",
   "version": "3.13.3"
  }
 },
 "nbformat": 4,
 "nbformat_minor": 5
}
